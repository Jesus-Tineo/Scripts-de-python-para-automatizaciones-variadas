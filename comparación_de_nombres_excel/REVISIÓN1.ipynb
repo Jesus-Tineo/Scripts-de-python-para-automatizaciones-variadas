{
 "cells": [
  {
   "cell_type": "code",
   "execution_count": null,
   "metadata": {},
   "outputs": [],
   "source": [
    "import os\n",
    "import pandas as pd\n",
    "from difflib import SequenceMatcher\n",
    "\n",
    "# Cargar los archivos de Excel\n",
    "file_path_1 = 'Archivo1.xlsx'  # Archivo de la base\n",
    "file_path_2 = 'Archivo2.xlsx'  # Archivo de solicitud\n",
    "\n",
    "# Leer las hojas de cálculo de ambos archivos\n",
    "sheet1_df = pd.read_excel(file_path_1, sheet_name=0)  # Base de datos\n",
    "sheet2_df = pd.read_excel(file_path_2, sheet_name=0)  # Solicitud de comparación\n",
    "\n",
    "# Mostrar las primeras filas de ambos archivos para entender su estructura\n",
    "sheet1_df.head(), sheet2_df.head()"
   ]
  },
  {
   "cell_type": "code",
   "execution_count": null,
   "metadata": {},
   "outputs": [],
   "source": [
    "# Limpiar espacios adicionales y convertir a minúsculas en ambas hojas\n",
    "sheet2_df['NOMBRES Y APELLIDOS'] = sheet2_df['NOMBRES Y APELLIDOS'].str.lower().str.strip()\n",
    "sheet1_df['APELLIDOS Y NOMBRES'] = sheet1_df['APELLIDOS Y NOMBRES'].str.lower().str.strip()\n",
    "\n",
    "# Reemplazar \"v\" por \"b\" en ambas hojas para evitar errores tipográficos comunes\n",
    "sheet1_df['APELLIDOS Y NOMBRES'] = sheet1_df['APELLIDOS Y NOMBRES'].str.replace('v', 'b')\n",
    "sheet2_df['NOMBRES Y APELLIDOS'] = sheet2_df['NOMBRES Y APELLIDOS'].str.replace('v', 'b')\n",
    "\n",
    "# Mostrar una muestra de los datos normalizados\n",
    "sheet1_df[['APELLIDOS Y NOMBRES']].head(), sheet2_df[['NOMBRES Y APELLIDOS']].head()\n",
    "\n",
    "# Función para calcular la similitud entre dos cadenas\n",
    "def calcular_similitud(nombre1, nombre2):\n",
    "    # Asegurarse de que ambos argumentos sean cadenas de texto\n",
    "    if not isinstance(nombre1, str):\n",
    "        nombre1 = str(nombre1)\n",
    "    if not isinstance(nombre2, str):\n",
    "        nombre2 = str(nombre2)\n",
    "    \n",
    "    return SequenceMatcher(None, nombre1, nombre2).ratio()\n",
    "\n",
    "# Comparar los nombres de ambas hojas\n",
    "resultados = []\n",
    "threshold = 0.75  # Establecer un umbral de similitud del 80%\n",
    "\n",
    "# Iterar sobre los nombres de la hoja 2 (solicitud)\n",
    "for nombre2 in sheet2_df['NOMBRES Y APELLIDOS']:\n",
    "    encontrado = False\n",
    "    # Comparar con todos los nombres de la hoja 1 (base)\n",
    "    for nombre1 in sheet1_df['APELLIDOS Y NOMBRES']:\n",
    "        similitud = calcular_similitud(nombre1, nombre2)\n",
    "        if similitud >= threshold:\n",
    "            encontrado = True\n",
    "            break\n",
    "    resultados.append('Encontrado' if encontrado else 'No encontrado')\n",
    "\n",
    "# Agregar la columna de resultados (Estado) al archivo de solicitud\n",
    "sheet2_df['Estado'] = resultados\n",
    "\n",
    "# Guardar el archivo actualizado con la columna de estado\n",
    "output_path = 'Resultados.xlsx'\n",
    "sheet2_df.to_excel(output_path, index=False)\n",
    "\n",
    "# Devolver la ruta del archivo generado\n",
    "output_path"
   ]
  }
 ],
 "metadata": {
  "kernelspec": {
   "display_name": "Python 3",
   "language": "python",
   "name": "python3"
  },
  "language_info": {
   "codemirror_mode": {
    "name": "ipython",
    "version": 3
   },
   "file_extension": ".py",
   "mimetype": "text/x-python",
   "name": "python",
   "nbconvert_exporter": "python",
   "pygments_lexer": "ipython3",
   "version": "3.9.1"
  }
 },
 "nbformat": 4,
 "nbformat_minor": 2
}
