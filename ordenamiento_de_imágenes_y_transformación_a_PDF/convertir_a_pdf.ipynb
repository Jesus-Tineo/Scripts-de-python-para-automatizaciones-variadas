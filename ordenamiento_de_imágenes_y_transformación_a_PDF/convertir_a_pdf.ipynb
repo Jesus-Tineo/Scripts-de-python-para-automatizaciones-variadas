{
 "cells": [
  {
   "cell_type": "code",
   "execution_count": null,
   "metadata": {},
   "outputs": [],
   "source": [
    "import os\n",
    "import win32com.client\n",
    "\n",
    "def doc_to_pdf(doc_path, pdf_path):\n",
    "    try:\n",
    "        # Crear objeto COM para interactuar con Word\n",
    "        word = win32com.client.Dispatch(\"Word.Application\")\n",
    "        word.Visible = False # Hacer que Word no se muestre durante la conversión\n",
    "\n",
    "        # Abrir el documento y guardarlo como PDF\n",
    "        doc = word.Documents.Open(doc_path)\n",
    "        doc.SaveAs(pdf_path, FileFormat=17)  # 17 es el formato de archivo para PDF\n",
    "        doc.Close()\n",
    "        word.Quit()\n",
    "    except Exception as e:\n",
    "        print(f\"Error al convertir {doc_path}: {e}\")\n",
    "\n",
    "def convert_docs_in_folder(folder_path, output_folder_path):\n",
    "    if not os.path.exists(output_folder_path):\n",
    "        os.makedirs(output_folder_path)\n",
    "\n",
    "    for filename in os.listdir(folder_path):\n",
    "        if filename.endswith('.doc') or filename.endswith('.docx'):\n",
    "            doc_path = os.path.join(folder_path, filename)\n",
    "            pdf_filename = os.path.splitext(filename)[0] + '.pdf'\n",
    "            pdf_path = os.path.join(output_folder_path, pdf_filename)\n",
    "            doc_to_pdf(doc_path, pdf_path)\n",
    "            print(f'Converted {filename} to PDF and saved to {pdf_path}')\n",
    "\n",
    "# Uso de ejemplo:\n",
    "input_folder_path = r'ruta_de_entrada'\n",
    "output_folder_path = r'ruta_de_salida'\n",
    "convert_docs_in_folder(input_folder_path, output_folder_path)"
   ]
  }
 ],
 "metadata": {
  "kernelspec": {
   "display_name": "Python 3",
   "language": "python",
   "name": "python3"
  },
  "language_info": {
   "codemirror_mode": {
    "name": "ipython",
    "version": 3
   },
   "file_extension": ".py",
   "mimetype": "text/x-python",
   "name": "python",
   "nbconvert_exporter": "python",
   "pygments_lexer": "ipython3",
   "version": "3.9.1"
  }
 },
 "nbformat": 4,
 "nbformat_minor": 2
}
